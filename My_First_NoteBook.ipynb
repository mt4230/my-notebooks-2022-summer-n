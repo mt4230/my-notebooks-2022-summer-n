{
  "nbformat": 4,
  "nbformat_minor": 0,
  "metadata": {
    "colab": {
      "name": "My First NoteBook",
      "provenance": [],
      "collapsed_sections": [],
      "authorship_tag": "ABX9TyMHQcNxO4hWUmnTxfhhJm8C",
      "include_colab_link": true
    },
    "kernelspec": {
      "name": "python3",
      "display_name": "Python 3"
    },
    "language_info": {
      "name": "python"
    }
  },
  "cells": [
    {
      "cell_type": "markdown",
      "metadata": {
        "id": "view-in-github",
        "colab_type": "text"
      },
      "source": [
        "<a href=\"https://colab.research.google.com/github/mt4230/my-notebooks-2022-summer-n/blob/main/My_First_NoteBook.ipynb\" target=\"_parent\"><img src=\"https://colab.research.google.com/assets/colab-badge.svg\" alt=\"Open In Colab\"/></a>"
      ]
    },
    {
      "cell_type": "code",
      "execution_count": null,
      "metadata": {
        "id": "mNC8-zgNva6L"
      },
      "outputs": [],
      "source": [
        "1 "
      ]
    },
    {
      "cell_type": "markdown",
      "source": [
        "this is some text\n",
        "\n",
        "we can write any language (like english)"
      ],
      "metadata": {
        "id": "6bxmQ6OmwlJu"
      }
    },
    {
      "cell_type": "markdown",
      "source": [
        "# My Heading\n",
        "\n",
        "writing normal sentences.\n",
        "\n",
        "## Heading Level 2\n",
        "\n",
        "\n",
        "here is a list:\n",
        "\n",
        "  + Item 1\n",
        "  + Item 2\n",
        "  + Item 3\n",
        "\n",
        "\n",
        "numbered list:\n",
        "\n",
        "  1. Item 1\n",
        "  2. Item 2\n",
        "  3. Item 3\n",
        "\n",
        "this is a link: [link name](https://www.google.com/)\n",
        "\n",
        "\n",
        "this is a code block (we'll use in README files):\n",
        "\n",
        "\n",
        "```\n",
        "print(\"HELLO\")\n",
        "```\n"
      ],
      "metadata": {
        "id": "wxnbbRW0xaog"
      }
    },
    {
      "cell_type": "markdown",
      "source": [
        ""
      ],
      "metadata": {
        "id": "M8mC5MVGy0fw"
      }
    },
    {
      "cell_type": "code",
      "source": [
        "# This is some example Python code\n",
        "# These lines starting with \"#\" are \"comments\"\n",
        "# Remember \"#\" means something different in Markdown than it does in Python\n",
        "\n",
        "print(\"HELLO WORLD!\")\n",
        "\n",
        "x = 2 + 2\n",
        "print(x)"
      ],
      "metadata": {
        "colab": {
          "base_uri": "https://localhost:8080/"
        },
        "id": "88s796l7zXdz",
        "outputId": "1d252e20-4d7d-4546-9887-065ff5991d79"
      },
      "execution_count": 1,
      "outputs": [
        {
          "output_type": "stream",
          "name": "stdout",
          "text": [
            "HELLO WORLD!\n",
            "4\n"
          ]
        }
      ]
    }
  ]
}